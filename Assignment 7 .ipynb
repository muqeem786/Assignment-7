{
 "cells": [
  {
   "cell_type": "code",
   "execution_count": 14,
   "id": "da2a49a0-4d63-4a6f-818d-11cd0456dc6b",
   "metadata": {},
   "outputs": [
    {
     "name": "stdout",
     "output_type": "stream",
     "text": [
      "[1, 2, 3, 4, 44, 55, 66, 34, 56, 78, 89, 34, 1, 1, 2, 2, 3, 3, 1, 34, 55, 67, 78, 89, 4, 45, 22, 61, 34, 56]\n",
      "24808271033922512873003047452672000\n"
     ]
    }
   ],
   "source": [
    "# Question 1\n",
    "\"\"\"Create a function which will take a list as an argument and return the product of all numbers after creating a flat list.\n",
    "Use the below given list as an argument for your function.\"\"\"\n",
    "\n",
    "from functools import reduce\n",
    "\n",
    "list1 = [1, 2, 3, 4, [44, 55, 66, True],False,(34 , 56 , 78,89,34),{1,2,3,3,2,1},{1:34,\"key2\": [55,67,78,89],4:(45,22,61,34)},[56,'data science'],'Machine Learning']\n",
    "\n",
    "def get_product(list_o):\n",
    "    new_lsit = []\n",
    "    for data in list_o:\n",
    "        if type(data) == int:\n",
    "            new_lsit.append(data)\n",
    "        elif type(data) == list:\n",
    "            for data_list in data :\n",
    "                if type(data_list) == int:\n",
    "                    new_lsit.append(data_list)\n",
    "        elif type(data) == tuple:\n",
    "            for data_tuple in data:\n",
    "                if type(data_tuple) == int:\n",
    "                    new_lsit.append(data_tuple)\n",
    "        elif type(data) == dict:\n",
    "            for key , value in data.items():\n",
    "                if type(key) == int:\n",
    "                    new_lsit.append(key)\n",
    "                if type(value) == int:\n",
    "                    new_lsit.append(value)\n",
    "                elif type(value) == int:\n",
    "                    new_lsit.append(value)\n",
    "                elif type(value) == list:\n",
    "                    for data_list in value:\n",
    "                        if type(data_list) == int:\n",
    "                            new_lsit.append(data_list)\n",
    "                elif type(value) == tuple:\n",
    "                    for data_tuple in value:\n",
    "                        if type(data_tuple) == int:\n",
    "                            new_lsit.append(data_tuple)\n",
    "        elif type(data) == set:\n",
    "            for num in list(data):\n",
    "                new_lsit.append(num)\n",
    "                new_lsit.append(num)\n",
    "    product = reduce(lambda x,y: x*y,new_lsit)\n",
    "    print(new_lsit)\n",
    "    return product\n",
    "\n",
    "\n",
    "print(get_product(list1))\n",
    "                \n",
    "                        \n",
    "                    \n",
    "            "
   ]
  },
  {
   "cell_type": "code",
   "execution_count": 15,
   "id": "f84247cd-ac98-4bf3-adb6-60ff173ac05d",
   "metadata": {},
   "outputs": [
    {
     "name": "stdin",
     "output_type": "stream",
     "text": [
      "Please enter your message ? t$nzro$oqdylirykyrulyu\n"
     ]
    },
    {
     "name": "stdout",
     "output_type": "stream",
     "text": [
      "o r q q v t\n"
     ]
    }
   ],
   "source": [
    "# Question 2\n",
    "\"\"\"Write a pythonprogram for encrypting a message sent to you by your friend. The logic of encryption should be s\n",
    "such that , for a the output should be z. Fot b the output should be y. For c,the output should be x respectively.\n",
    "Also the whitespace should be replaced with a dollar sign . Keep the punctuation marks unchanged\"\"\"\n",
    "\n",
    "user_input = input(\"Please enter your message ?\")\n",
    "dict_input = {\"a\" : \"z\" , \"b\" : \"y\" , \"c\" : \"x\" , \"d\" : \"v\" , \"e\" : \"u\" , \"i\" : \"t\" , \"m\" : \"s\" , \"n\" : \"r\" , \"o\" : \"q\",\n",
    "              \"s\" : \"p\" , \"t\" : \"o\" , \"w\" : \"n\"}\n",
    "\n",
    "rev_input = user_input.lower()\n",
    "encrypt_list = []\n",
    "for i in rev_input:\n",
    "    if i == \" \":\n",
    "        encrypt_list.append(\"$\")\n",
    "    elif i in dict_input:\n",
    "        encrypt_list.append(dict_input[i])\n",
    "encrypt_message = \" \".join(encrypt_list)\n",
    "print(encrypt_message)\n",
    "        "
   ]
  },
  {
   "cell_type": "code",
   "execution_count": null,
   "id": "26a56f50-1fce-4628-b41c-1f71bbb4d5e1",
   "metadata": {},
   "outputs": [],
   "source": []
  }
 ],
 "metadata": {
  "kernelspec": {
   "display_name": "Python 3 (ipykernel)",
   "language": "python",
   "name": "python3"
  },
  "language_info": {
   "codemirror_mode": {
    "name": "ipython",
    "version": 3
   },
   "file_extension": ".py",
   "mimetype": "text/x-python",
   "name": "python",
   "nbconvert_exporter": "python",
   "pygments_lexer": "ipython3",
   "version": "3.10.8"
  }
 },
 "nbformat": 4,
 "nbformat_minor": 5
}
